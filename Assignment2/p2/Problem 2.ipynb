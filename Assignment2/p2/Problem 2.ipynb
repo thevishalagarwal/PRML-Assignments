{
 "cells": [
  {
   "cell_type": "markdown",
   "metadata": {
    "deletable": true,
    "editable": true
   },
   "source": [
    "# Bike Rental Count using Decision Tree\n",
    "\n",
    "The data set is derived from a two-year usage log of a Washington, D.C. bike-sharing system called Captial Bike Sharing (CBS). Bike sharing systems are variants of traditional bicycle rentals, where the process of renting and returning is heavily automated; typically, bikes can be rented at one location and returned at another without ever having to deal with a human being. The goal is to predict the daily level of bicycle rentals from environmental and seasonal variables using decision trees.\n",
    "\n",
    "**Data**: `bikes.csv` has the following attributes:\n",
    "- date: The full date, in year-month-day format.\n",
    "- season: Season of the year, 1 to 4\n",
    "- year: Year, 0=2011, 1=2012\n",
    "- month: Month (1 to 12)\n",
    "- holiday: Whether the day is holiday or not\n",
    "- weekday: Day of the week (coded by 0-6)\n",
    "- workingday: 1 for working days, 0 for weekends and holidays\n",
    "- weather: Weather, coded as follows:\n",
    "    1. Clear to partly cloudy\n",
    "    2. Mist but no heavier precipitation\n",
    "    3. Light rain or snow, possibly with thunder\n",
    "    4. Heavy rain or snow\n",
    "- temp: Normalized temperature in Celsius. The values are derived via (t − tmin )/(tmax − tmin ); tmin = −8, tmax = +39.\n",
    "- humidity: Normalized humidity ( actual humidity divided by 100 ).\n",
    "- windspeed: Normalized wind speed ( actual wind speed in miles per hour divided by 67 ).\n",
    "- count: Count of total bike rentals that day, including both casual and registered users.\n",
    "\n",
    "The response variable of interest is **count**, the total number of rentals each day.\n",
    "\n",
    "**Problem**: Build a regression tree predicting daily bike rentals from all available variables.\n",
    "\n",
    "(i) Report the following: (a) Plot of regression tree (b) The total number of leaf nodes in the tree,\n",
    "(c) Into how many different groups of days does the tree divide the data, (d) Which variables appear\n",
    "in the tree, (e) Which variables are important, (f ) The MSE.\n",
    "\n",
    "(ii) Now re-code the months so that January and February share one code, May through October\n",
    "shares another, and March, April, November and December share a third. Re-estimate the regression\n",
    "tree. How does the tree change (if at all)? What is the MSE? Did it improve the fit?"
   ]
  },
  {
   "cell_type": "code",
   "execution_count": 1,
   "metadata": {
    "collapsed": false,
    "deletable": true,
    "editable": true
   },
   "outputs": [
    {
     "name": "stderr",
     "output_type": "stream",
     "text": [
      "/usr/local/lib/python2.7/dist-packages/sklearn/cross_validation.py:41: DeprecationWarning: This module was deprecated in version 0.18 in favor of the model_selection module into which all the refactored classes and functions are moved. Also note that the interface of the new CV iterators are different from that of this module. This module will be removed in 0.20.\n",
      "  \"This module will be removed in 0.20.\", DeprecationWarning)\n"
     ]
    }
   ],
   "source": [
    "# Importing necessary libraries\n",
    "import pandas as pd\n",
    "import numpy as np\n",
    "\n",
    "from sklearn.tree import DecisionTreeClassifier, export_graphviz, DecisionTreeRegressor\n",
    "from sklearn.ensemble import RandomForestRegressor\n",
    "from sklearn.model_selection import train_test_split\n",
    "from sklearn.metrics import r2_score\n",
    "from sklearn.metrics import mean_squared_error as mse\n",
    "from sklearn.cross_validation import cross_val_score\n",
    "\n",
    "import pydotplus\n",
    "import collections\n",
    "from IPython.display import Image\n",
    "\n",
    "from matplotlib import pyplot as plt\n",
    "import seaborn as sns\n",
    "import copy\n",
    "\n",
    "%matplotlib inline\n",
    "sns.set()\n",
    "\n",
    "# To turn off warnings\n",
    "import warnings\n",
    "warnings.filterwarnings('ignore')"
   ]
  },
  {
   "cell_type": "markdown",
   "metadata": {
    "collapsed": false,
    "deletable": true,
    "editable": true
   },
   "source": [
    "## Read data\n",
    "\n",
    "In the following implementation, **date** has not been considered as a feature vector. "
   ]
  },
  {
   "cell_type": "code",
   "execution_count": 2,
   "metadata": {
    "collapsed": true,
    "deletable": true,
    "editable": true
   },
   "outputs": [],
   "source": [
    "# Read data into pandas dataframe\n",
    "data = pd.read_csv('P2_data/bikes.csv')"
   ]
  },
  {
   "cell_type": "code",
   "execution_count": 3,
   "metadata": {
    "collapsed": false,
    "deletable": true,
    "editable": true
   },
   "outputs": [],
   "source": [
    "feature_names = ['season', 'year', 'month', 'holiday', 'weekday', 'working_day', \n",
    "                 'weather', 'temperature', 'humidity', 'windspeed']"
   ]
  },
  {
   "cell_type": "code",
   "execution_count": 4,
   "metadata": {
    "collapsed": false,
    "deletable": true,
    "editable": true
   },
   "outputs": [
    {
     "name": "stdout",
     "output_type": "stream",
     "text": [
      "(548, 10) (548,)\n",
      "(183, 10) (183,)\n"
     ]
    }
   ],
   "source": [
    "data_matrix = data.as_matrix()\n",
    "\n",
    "X = data_matrix[:,1:-1]\n",
    "y = data_matrix[:,-1]\n",
    "\n",
    "# Split training and test set into 75-25\n",
    "X_train, X_test, y_train, y_test = train_test_split(X, y, test_size=0.25, random_state=42)\n",
    "\n",
    "m, n = X_train.shape\n",
    "\n",
    "# Print train and test set sizes for sanity check\n",
    "print X_train.shape, y_train.shape\n",
    "print X_test.shape, y_test.shape"
   ]
  },
  {
   "cell_type": "markdown",
   "metadata": {
    "collapsed": true,
    "deletable": true,
    "editable": true
   },
   "source": [
    "## Decision Tree Regression\n",
    "\n",
    "First do a dirty implementation of `DecisionTreeRegressor` from sklearn to check base accuracy and then add complexity to the model to improve its performance.\n",
    "The metrics used for model evaluation are :\n",
    "1. Mean Square Error (MSE)\n",
    "2. R$^{2}$ Score"
   ]
  },
  {
   "cell_type": "code",
   "execution_count": 5,
   "metadata": {
    "collapsed": false,
    "deletable": true,
    "editable": true
   },
   "outputs": [
    {
     "name": "stdout",
     "output_type": "stream",
     "text": [
      "Training R2 score : 1.00\n",
      "Training MSE score : 0.00\n",
      "Test R2 score : 0.85\n",
      "Test MSE score : 588353.58\n"
     ]
    }
   ],
   "source": [
    "model = DecisionTreeRegressor(criterion='mse')\n",
    "model.fit(X_train, y_train)\n",
    "\n",
    "y_pred_train = model.predict(X_train)\n",
    "r2_train = r2_score(y_train, y_pred_train)\n",
    "mse_train = mse(y_train, y_pred_train)\n",
    "\n",
    "y_pred = model.predict(X_test)\n",
    "r2_test = r2_score(y_test, y_pred)\n",
    "mse_test = mse(y_test, y_pred)\n",
    "\n",
    "print 'Training R2 score : %.2f'%(r2_train)\n",
    "print 'Training MSE score : %.2f'%(mse_train)\n",
    "print 'Test R2 score : %.2f'%(r2_test)\n",
    "print 'Test MSE score : %.2f'%(mse_test)"
   ]
  },
  {
   "cell_type": "code",
   "execution_count": 6,
   "metadata": {
    "collapsed": false,
    "deletable": true,
    "editable": true
   },
   "outputs": [
    {
     "name": "stdout",
     "output_type": "stream",
     "text": [
      "dot: graph is too large for cairo-renderer bitmaps. Scaling by 0.871393 to fit\n",
      "\n"
     ]
    },
    {
     "data": {
      "text/plain": [
       "True"
      ]
     },
     "execution_count": 6,
     "metadata": {},
     "output_type": "execute_result"
    }
   ],
   "source": [
    "# Visualizing decision tree\n",
    "dot_data = export_graphviz(model, out_file=None, filled=True, rounded=True)\n",
    "graph = pydotplus.graph_from_dot_data(dot_data)\n",
    "\n",
    "image = 'p2_decision_tree.png'\n",
    "graph.write_png(image)\n",
    "# Image(image)\n",
    "\n",
    "# Please uncomment the above statement to view the tree in the jupyter notebook"
   ]
  },
  {
   "cell_type": "code",
   "execution_count": 7,
   "metadata": {
    "collapsed": false,
    "deletable": true,
    "editable": true
   },
   "outputs": [
    {
     "name": "stdout",
     "output_type": "stream",
     "text": [
      "No. of total nodes : 1095\n",
      "No. of leaf nodes : 548\n"
     ]
    }
   ],
   "source": [
    "n_nodes = model.tree_.node_count\n",
    "leaf_nodes = len(np.unique(model.apply(X_train)))\n",
    "\n",
    "print 'No. of total nodes : %d'%(n_nodes)\n",
    "print 'No. of leaf nodes : %d'%(leaf_nodes)"
   ]
  },
  {
   "cell_type": "markdown",
   "metadata": {
    "deletable": true,
    "editable": true
   },
   "source": [
    "## Cross-validation\n",
    "\n",
    "Since the size of the tree is too large, I have used the **`cross_val_score`** function from sklearn library to perform 5-fold cross-validation on the dataset. Higher score signifies better model. For cross-validation, the maximum depth of the tree is restricted."
   ]
  },
  {
   "cell_type": "code",
   "execution_count": 8,
   "metadata": {
    "collapsed": false,
    "deletable": true,
    "editable": true
   },
   "outputs": [
    {
     "data": {
      "image/png": "[encoded data removed]",
      "text/plain": [
       "<matplotlib.figure.Figure at 0x7f541bf786d0>"
      ]
     },
     "metadata": {},
     "output_type": "display_data"
    }
   ],
   "source": [
    "# List to store cross_val_score and plot it\n",
    "score = []\n",
    "\n",
    "# Max allowed depth varying from 2 to 19\n",
    "depth = range(2,20)\n",
    "\n",
    "# Cross-validation by varying maximum depth of the tree\n",
    "for i in depth:\n",
    "    test_model = DecisionTreeRegressor(max_depth=i, criterion='mse')\n",
    "    scores = cross_val_score(estimator=test_model, X=X, y=y, cv=5)\n",
    "    score.append(scores.mean())\n",
    "    \n",
    "# Plot to show cross_val_score vs max_depth of the tree\n",
    "fig = plt.figure(figsize=(10,6))\n",
    "plt.plot(depth, score)\n",
    "plt.xticks(depth)\n",
    "plt.xlabel('Depth')\n",
    "plt.ylabel('Cross Validation score')\n",
    "plt.show()\n",
    "\n",
    "best_estimate = score.index(max(score))+2"
   ]
  },
  {
   "cell_type": "markdown",
   "metadata": {
    "deletable": true,
    "editable": true
   },
   "source": [
    "## Improved Decision Tree"
   ]
  },
  {
   "cell_type": "code",
   "execution_count": 9,
   "metadata": {
    "collapsed": false,
    "deletable": true,
    "editable": true
   },
   "outputs": [
    {
     "name": "stdout",
     "output_type": "stream",
     "text": [
      "Training R2 score : 0.92\n",
      "Training MSE score : 285074.02\n",
      "Test R2 score : 0.85\n",
      "Test MSE score : 561220.15\n"
     ]
    }
   ],
   "source": [
    "# Build a new tree with restriction on its maximum depth\n",
    "# The best estimate is found out by cross-validation\n",
    "\n",
    "model = DecisionTreeRegressor(max_depth=best_estimate, criterion='mse')\n",
    "model.fit(X_train, y_train)\n",
    "\n",
    "y_pred = model.predict(X_test)\n",
    "\n",
    "y_pred_train = model.predict(X_train)\n",
    "r2_train = r2_score(y_train, y_pred_train)\n",
    "mse_train = mse(y_train, y_pred_train)\n",
    "\n",
    "y_pred = model.predict(X_test)\n",
    "r2_test = r2_score(y_test, y_pred)\n",
    "mse_test = mse(y_test, y_pred)\n",
    "\n",
    "print 'Training R2 score : %.2f'%(r2_train)\n",
    "print 'Training MSE score : %.2f'%(mse_train)\n",
    "print 'Test R2 score : %.2f'%(r2_test)\n",
    "print 'Test MSE score : %.2f'%(mse_test)"
   ]
  },
  {
   "cell_type": "markdown",
   "metadata": {
    "deletable": true,
    "editable": true
   },
   "source": [
    "## Visualizing decision tree"
   ]
  },
  {
   "cell_type": "code",
   "execution_count": 10,
   "metadata": {
    "collapsed": false,
    "deletable": true,
    "editable": true
   },
   "outputs": [
    {
     "data": {
      "text/plain": [
       "True"
      ]
     },
     "execution_count": 10,
     "metadata": {},
     "output_type": "execute_result"
    }
   ],
   "source": [
    "# Visualizing decision tree\n",
    "dot_data = export_graphviz(model, out_file=None, filled=True, rounded=True)\n",
    "graph = pydotplus.graph_from_dot_data(dot_data)\n",
    "\n",
    "image = 'p2_decision_tree.png'\n",
    "graph.write_png(image)\n",
    "# Image(image)\n",
    "\n",
    "# Please uncomment the above statement to view the tree in the jupyter notebook"
   ]
  },
  {
   "cell_type": "markdown",
   "metadata": {
    "deletable": true,
    "editable": true
   },
   "source": [
    "## Node Count"
   ]
  },
  {
   "cell_type": "code",
   "execution_count": 11,
   "metadata": {
    "collapsed": false,
    "deletable": true,
    "editable": true
   },
   "outputs": [
    {
     "name": "stdout",
     "output_type": "stream",
     "text": [
      "No. of total nodes : 121\n",
      "No. of leaf nodes : 61\n"
     ]
    }
   ],
   "source": [
    "n_nodes = model.tree_.node_count\n",
    "leaf_nodes = len(np.unique(model.apply(X_train)))\n",
    "\n",
    "print 'No. of total nodes : %d'%(n_nodes)\n",
    "print 'No. of leaf nodes : %d'%(leaf_nodes)"
   ]
  },
  {
   "cell_type": "markdown",
   "metadata": {
    "collapsed": true,
    "deletable": true,
    "editable": true
   },
   "source": [
    "## Important features\n",
    "\n",
    "The following list shows importance of features in decreasing order, i.e., the most important feature is shown in the first place."
   ]
  },
  {
   "cell_type": "code",
   "execution_count": 12,
   "metadata": {
    "collapsed": false,
    "deletable": true,
    "editable": true
   },
   "outputs": [
    {
     "data": {
      "image/png": "[encoded data removed]",
      "text/plain": [
       "<matplotlib.figure.Figure at 0x7f541933b650>"
      ]
     },
     "metadata": {},
     "output_type": "display_data"
    },
    {
     "name": "stdout",
     "output_type": "stream",
     "text": [
      "Important features: \n",
      "['temperature', 'year', 'humidity', 'season', 'month', 'windspeed', 'working_day', 'weekday', 'holiday', 'weather']\n"
     ]
    }
   ],
   "source": [
    "feature_score = list(model.feature_importances_)\n",
    "\n",
    "fig = plt.figure(figsize=(16,9))\n",
    "plt.bar(range(len(feature_score)), feature_score, align='center')\n",
    "plt.xticks(range(len(feature_score)), feature_names)\n",
    "plt.xlabel('Features')\n",
    "plt.ylabel('Feature Score')\n",
    "plt.show()\n",
    "\n",
    "imp_features = []\n",
    "\n",
    "for i in range(len(feature_names)):\n",
    "    m = max(feature_score)\n",
    "    index = feature_score.index(m)\n",
    "    imp_features.append(feature_names[index])\n",
    "    feature_score[index] = -1\n",
    "    \n",
    "print \"Important features: \\n\",imp_features"
   ]
  },
  {
   "cell_type": "code",
   "execution_count": 13,
   "metadata": {
    "collapsed": false,
    "deletable": true,
    "editable": true
   },
   "outputs": [
    {
     "name": "stdout",
     "output_type": "stream",
     "text": [
      "[-2  0  1  2  3  4  5  6  7  8  9]\n"
     ]
    }
   ],
   "source": [
    "feature = model.tree_.feature\n",
    "print np.unique(feature)"
   ]
  },
  {
   "cell_type": "markdown",
   "metadata": {
    "deletable": true,
    "editable": true
   },
   "source": [
    "All the features used in the data, except 'date', shows up in the decision tree. The important features are listed below in the order of its importance :\n",
    "1. Temperature\n",
    "2. Year\n",
    "3. Humidity\n",
    "4. Season\n",
    "5. Month\n",
    "6. Windspeed\n",
    "7. Weekday\n",
    "8. Workingday\n",
    "9. Holiday\n",
    "10. Weather"
   ]
  },
  {
   "cell_type": "markdown",
   "metadata": {
    "deletable": true,
    "editable": true
   },
   "source": [
    "## Random Forest\n",
    "\n",
    "To improve the accuracy, I tried Random Forest technique for regression using `RandomForestRegressor` from sklearn. Using the base Random Forest model, the MSE has relatively improved from 674,624 to 432,886 and the R2 score has increased from 0.82 to 0.89. "
   ]
  },
  {
   "cell_type": "code",
   "execution_count": 14,
   "metadata": {
    "collapsed": false,
    "deletable": true,
    "editable": true
   },
   "outputs": [
    {
     "name": "stdout",
     "output_type": "stream",
     "text": [
      "Training R2 score : 0.97\n",
      "Training MSE score : 103914.30\n",
      "Test R2 score : 0.87\n",
      "Test MSE score : 502381.29\n"
     ]
    }
   ],
   "source": [
    "model = RandomForestRegressor(criterion='mse')\n",
    "model.fit(X_train, y_train)\n",
    "\n",
    "y_pred = model.predict(X_test)\n",
    "\n",
    "y_pred_train = model.predict(X_train)\n",
    "r2_train = r2_score(y_train, y_pred_train)\n",
    "mse_train = mse(y_train, y_pred_train)\n",
    "\n",
    "y_pred = model.predict(X_test)\n",
    "r2_test = r2_score(y_test, y_pred)\n",
    "mse_test = mse(y_test, y_pred)\n",
    "\n",
    "print 'Training R2 score : %.2f'%(r2_train)\n",
    "print 'Training MSE score : %.2f'%(mse_train)\n",
    "print 'Test R2 score : %.2f'%(r2_test)\n",
    "print 'Test MSE score : %.2f'%(mse_test)"
   ]
  },
  {
   "cell_type": "markdown",
   "metadata": {
    "deletable": true,
    "editable": true
   },
   "source": [
    "## Cross-validation\n",
    "\n",
    "Cross-validation is done on the Random Forest model by varying the number of trees in the forest"
   ]
  },
  {
   "cell_type": "code",
   "execution_count": 15,
   "metadata": {
    "collapsed": false,
    "deletable": true,
    "editable": true
   },
   "outputs": [
    {
     "data": {
      "image/png": "[encoded data removed]",
      "text/plain": [
       "<matplotlib.figure.Figure at 0x7f541921d5d0>"
      ]
     },
     "metadata": {},
     "output_type": "display_data"
    }
   ],
   "source": [
    "# List to store cross_val_score and plot it\n",
    "score = []\n",
    "\n",
    "# Number of trees in the forest varying from 5 to 100\n",
    "tree_test = range(5, 100, 5)\n",
    "\n",
    "# Cross-validation by varying number of trees in the forest\n",
    "for i in tree_test:\n",
    "    test_model = RandomForestRegressor(criterion='mse', n_estimators=i)\n",
    "    scores = cross_val_score(estimator=test_model, X=X, y=y, cv=4)\n",
    "    score.append(scores.mean())\n",
    "    \n",
    "# Plot to show cross_val_score vs trees in the forest\n",
    "fig = plt.figure(figsize=(10,6))\n",
    "plt.plot(tree_test, score)\n",
    "plt.xticks(tree_test)\n",
    "plt.xlabel('Trees in the forest')\n",
    "plt.ylabel('Cross Validation score')\n",
    "plt.show()\n",
    "\n",
    "best_estimate = (score.index(max(score))+1)*5"
   ]
  },
  {
   "cell_type": "markdown",
   "metadata": {
    "deletable": true,
    "editable": true
   },
   "source": [
    "## Improved Random Forest Regressor"
   ]
  },
  {
   "cell_type": "code",
   "execution_count": 16,
   "metadata": {
    "collapsed": false,
    "deletable": true,
    "editable": true
   },
   "outputs": [
    {
     "name": "stdout",
     "output_type": "stream",
     "text": [
      "Training R2 score : 0.98\n",
      "Training MSE score : 72323.37\n",
      "Test R2 score : 0.90\n",
      "Test MSE score : 399014.63\n"
     ]
    }
   ],
   "source": [
    "# Build a new tree with restriction on the number of trees in the forest\n",
    "# The best estimate is found out by cross-validation\n",
    "\n",
    "model = RandomForestRegressor(criterion='mse', n_estimators=best_estimate)\n",
    "model.fit(X_train, y_train)\n",
    "\n",
    "y_pred = model.predict(X_test)\n",
    "\n",
    "y_pred_train = model.predict(X_train)\n",
    "r2_train = r2_score(y_train, y_pred_train)\n",
    "mse_train = mse(y_train, y_pred_train)\n",
    "\n",
    "y_pred = model.predict(X_test)\n",
    "r2_test = r2_score(y_test, y_pred)\n",
    "mse_test = mse(y_test, y_pred)\n",
    "\n",
    "print 'Training R2 score : %.2f'%(r2_train)\n",
    "print 'Training MSE score : %.2f'%(mse_train)\n",
    "print 'Test R2 score : %.2f'%(r2_test)\n",
    "print 'Test MSE score : %.2f'%(mse_test)"
   ]
  },
  {
   "cell_type": "code",
   "execution_count": null,
   "metadata": {
    "collapsed": false,
    "deletable": true,
    "editable": true
   },
   "outputs": [],
   "source": []
  },
  {
   "cell_type": "markdown",
   "metadata": {
    "deletable": true,
    "editable": true
   },
   "source": [
    "## Re-coding the data\n",
    "\n",
    "This is the 2nd part of the problem where the month feature is re-coded as following\n",
    "- January and February as 1\n",
    "- May through October as 2\n",
    "- March, April, November and December as 3"
   ]
  },
  {
   "cell_type": "code",
   "execution_count": 17,
   "metadata": {
    "collapsed": false,
    "deletable": true,
    "editable": true
   },
   "outputs": [],
   "source": [
    "# Copying the data matrix into a new matrix for recoding\n",
    "X1 = copy.copy(X)\n",
    "\n",
    "# Recoding month feature\n",
    "index = np.where((X1[:,2]==2))\n",
    "X1[index,2] = 1\n",
    "\n",
    "for i in range(5,11):\n",
    "    index = np.where((X1[:,2]==i))\n",
    "    X1[index,2] = 2\n",
    "\n",
    "index = np.where((X1[:,2]==4))\n",
    "X1[index,2] = 3\n",
    "index = np.where((X1[:,2]==11))\n",
    "X1[index,2] = 3\n",
    "index = np.where((X1[:,2]==12))\n",
    "X1[index,2] = 3"
   ]
  },
  {
   "cell_type": "code",
   "execution_count": 18,
   "metadata": {
    "collapsed": false,
    "deletable": true,
    "editable": true
   },
   "outputs": [],
   "source": [
    "# Split training and test set into 75-25\n",
    "X_train, X_test, y_train, y_test = train_test_split(X1, y, test_size=0.25, random_state=42)"
   ]
  },
  {
   "cell_type": "markdown",
   "metadata": {
    "deletable": true,
    "editable": true
   },
   "source": [
    "## Building Decision Tree"
   ]
  },
  {
   "cell_type": "code",
   "execution_count": 19,
   "metadata": {
    "collapsed": false,
    "deletable": true,
    "editable": true
   },
   "outputs": [
    {
     "name": "stdout",
     "output_type": "stream",
     "text": [
      "Training R2 score : 1.00\n",
      "Training MSE score : 0.00\n",
      "Test R2 score : 0.84\n",
      "Test MSE score : 627166.43\n"
     ]
    }
   ],
   "source": [
    "model = DecisionTreeRegressor(criterion='mse')\n",
    "model.fit(X_train, y_train)\n",
    "\n",
    "y_pred = model.predict(X_test)\n",
    "\n",
    "y_pred_train = model.predict(X_train)\n",
    "r2_train = r2_score(y_train, y_pred_train)\n",
    "mse_train = mse(y_train, y_pred_train)\n",
    "\n",
    "y_pred = model.predict(X_test)\n",
    "r2_test = r2_score(y_test, y_pred)\n",
    "mse_test = mse(y_test, y_pred)\n",
    "\n",
    "print 'Training R2 score : %.2f'%(r2_train)\n",
    "print 'Training MSE score : %.2f'%(mse_train)\n",
    "print 'Test R2 score : %.2f'%(r2_test)\n",
    "print 'Test MSE score : %.2f'%(mse_test)"
   ]
  },
  {
   "cell_type": "code",
   "execution_count": 20,
   "metadata": {
    "collapsed": false,
    "deletable": true,
    "editable": true
   },
   "outputs": [
    {
     "name": "stdout",
     "output_type": "stream",
     "text": [
      "dot: graph is too large for cairo-renderer bitmaps. Scaling by 0.958127 to fit\n",
      "\n"
     ]
    },
    {
     "data": {
      "text/plain": [
       "True"
      ]
     },
     "execution_count": 20,
     "metadata": {},
     "output_type": "execute_result"
    }
   ],
   "source": [
    "# Visualizing decision tree\n",
    "dot_data = export_graphviz(model, out_file=None, filled=True, rounded=True)\n",
    "graph = pydotplus.graph_from_dot_data(dot_data)\n",
    "\n",
    "image = 'p2_decision_tree_modified.png'\n",
    "graph.write_png(image)\n",
    "# Image(image)"
   ]
  },
  {
   "cell_type": "code",
   "execution_count": 21,
   "metadata": {
    "collapsed": false,
    "deletable": true,
    "editable": true
   },
   "outputs": [
    {
     "name": "stdout",
     "output_type": "stream",
     "text": [
      "No. of total nodes : 1093\n",
      "No. of leaf nodes : 547\n"
     ]
    }
   ],
   "source": [
    "n_nodes = model.tree_.node_count\n",
    "leaf_nodes = len(np.unique(model.apply(X_train)))\n",
    "\n",
    "print 'No. of total nodes : %d'%(n_nodes)\n",
    "print 'No. of leaf nodes : %d'%(leaf_nodes)"
   ]
  },
  {
   "cell_type": "markdown",
   "metadata": {
    "collapsed": true,
    "deletable": true,
    "editable": true
   },
   "source": [
    "**If we use the base Decision Tree model, recoding the data has reduced the MSE slightly. Thus recoding the data has helped in improving the model. However the Random Forest Model improves the accuracy significantly with less MSE, without even recoding the data. \n",
    "Further the model can be improved by pruning.**"
   ]
  },
  {
   "cell_type": "code",
   "execution_count": null,
   "metadata": {
    "collapsed": false,
    "deletable": true,
    "editable": true
   },
   "outputs": [],
   "source": []
  }
 ],
 "metadata": {
  "kernelspec": {
   "display_name": "Python 2",
   "language": "python",
   "name": "python2"
  },
  "language_info": {
   "codemirror_mode": {
    "name": "ipython",
    "version": 2
   },
   "file_extension": ".py",
   "mimetype": "text/x-python",
   "name": "python",
   "nbconvert_exporter": "python",
   "pygments_lexer": "ipython2",
   "version": "2.7.14"
  }
 },
 "nbformat": 4,
 "nbformat_minor": 2
}
