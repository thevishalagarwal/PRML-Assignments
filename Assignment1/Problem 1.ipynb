{
 "cells": [
  {
   "cell_type": "markdown",
   "metadata": {
    "collapsed": false,
    "deletable": true,
    "editable": true
   },
   "source": [
    "# Bayesian Decision\n",
    "\n",
    "The dataset used is Optical Recognition of Handwritten Digits Dataset from the UCI repository. The original dataset consists of normalized bitmaps of handwritten digits (0-9). 32x32 bitmaps are divided into non-overlapping blocks of 4x4 and the number of ON pixels are counted in each block. This generates an input matrix of 8x8 where each element is an integer in the range 0-16. This reduces dimensionality and gives invariance to small distortions.\n",
    "\n",
    "The dataset used is a modified version of the above dataset, consisting of the data corresponding to the handwritten digits **5** and **6** extracted from the original dataset.\n",
    "\n",
    "* Training data : `P1_data_train.csv` consisting of 777 instances (rows) of 64 attributes (cols) corresponding to the handwritten digit value (5 or 6) given in `P1_labels_train.csv`.\n",
    "* Test data : `P1_data_test.csv` consisting of 333 instances (rows) of 64 attributes (cols) corresponding to the handwritten digit value (5 or 6) given in `P1_labels_test.csv`."
   ]
  },
  {
   "cell_type": "code",
   "execution_count": 1,
   "metadata": {
    "collapsed": true,
    "deletable": true,
    "editable": true
   },
   "outputs": [],
   "source": [
    "# Import necessary libraries\n",
    "\n",
    "import numpy as np\n",
    "import pandas as pd\n",
    "from scipy.stats import multivariate_normal\n",
    "\n",
    "from matplotlib import pyplot as plt\n",
    "import seaborn as sns\n",
    "\n",
    "# Self-implemented APIs\n",
    "from BayesClassifier import BayesClassifier\n",
    "from discriminant_analysis import PCA\n",
    "from discriminant_analysis import LDA\n",
    "\n",
    "%matplotlib inline\n",
    "sns.set()"
   ]
  },
  {
   "cell_type": "code",
   "execution_count": 2,
   "metadata": {
    "collapsed": false,
    "deletable": true,
    "editable": true
   },
   "outputs": [],
   "source": [
    "# Reading csv files to pandas dataframe\n",
    "df_X_train = pd.read_csv('P1_data/P1_data_train.csv', header=None)\n",
    "df_y_train = pd.read_csv('P1_data/P1_labels_train.csv', header=None)\n",
    "df_X_test = pd.read_csv('P1_data/P1_data_test.csv', header=None)\n",
    "df_y_test = pd.read_csv('P1_data/P1_labels_test.csv', header=None)"
   ]
  },
  {
   "cell_type": "code",
   "execution_count": 3,
   "metadata": {
    "collapsed": false,
    "deletable": true,
    "editable": true
   },
   "outputs": [
    {
     "name": "stdout",
     "output_type": "stream",
     "text": [
      "Number of training samples \t: 777\n",
      "Number of test samples \t\t: 333\n",
      "Dimension of data \t\t: 64\n"
     ]
    }
   ],
   "source": [
    "# Converting dataframe into matrices\n",
    "X_train = df_X_train.values \n",
    "y_train = df_y_train.values \n",
    "X_test = df_X_test.values   \n",
    "y_test = df_y_test.values \n",
    "\n",
    "m, n = X_train.shape\n",
    "\n",
    "# As a sanity check, printing out sizes of training and test inputs\n",
    "\n",
    "print ('Number of training samples \\t: %d')%(m)\n",
    "print 'Number of test samples \\t\\t: %d'%(X_test.shape[0])\n",
    "print 'Dimension of data \\t\\t: %d'%(n)"
   ]
  },
  {
   "cell_type": "code",
   "execution_count": 4,
   "metadata": {
    "collapsed": false,
    "deletable": true,
    "editable": true
   },
   "outputs": [
    {
     "data": {
      "image/png": "[encoded data removed]",
      "text/plain": [
       "<matplotlib.figure.Figure at 0x7f34e2f66110>"
      ]
     },
     "metadata": {},
     "output_type": "display_data"
    }
   ],
   "source": [
    "# Visualizing few examples from the training dataset\n",
    "# The label (5 or 6) corresponding to each training example is shown in the left bottom corner of each image\n",
    "\n",
    "fig = plt.figure(figsize=(10,6))\n",
    "fig.suptitle('Sample Examples from the dataset')\n",
    "for i in range(25):\n",
    "    ax = fig.add_subplot(5,5,i+1, xticks=[], yticks=[])\n",
    "    ax.imshow(X_train[i,:].reshape(8,8), cmap='gray')\n",
    "    ax.text(-3, 7, y_train[i,0].astype(int), fontsize=10)"
   ]
  },
  {
   "cell_type": "code",
   "execution_count": null,
   "metadata": {
    "collapsed": true,
    "deletable": true,
    "editable": true
   },
   "outputs": [],
   "source": []
  },
  {
   "cell_type": "markdown",
   "metadata": {
    "deletable": true,
    "editable": true
   },
   "source": [
    "`BayesClassifier.py` contains the `BayesClassifier` class which contains the following methods :\n",
    "- `fit()` which estimates parameters like mean, covariance and apriori probability using **Maximum Likelihood Estimation**\n",
    "- `predict()` which predicts the output of given test data using the estimated parameters\n",
    "- `evaluate()` which calculates the accuracy and confusion matrix for the model\n",
    "\n",
    "_Assumption : The data from each class can be modelled using multivariate normal distribution._"
   ]
  },
  {
   "cell_type": "code",
   "execution_count": 5,
   "metadata": {
    "collapsed": false,
    "deletable": true,
    "editable": true
   },
   "outputs": [
    {
     "name": "stdout",
     "output_type": "stream",
     "text": [
      "\n",
      "Fitting your data...\n",
      "Successfully completed fitting!\n",
      "\n"
     ]
    }
   ],
   "source": [
    "model = BayesClassifier()\n",
    "# Estimating parameters\n",
    "model.fit(X_train, y_train)"
   ]
  },
  {
   "cell_type": "code",
   "execution_count": 6,
   "metadata": {
    "collapsed": false,
    "deletable": true,
    "editable": true,
    "scrolled": true
   },
   "outputs": [
    {
     "data": {
      "image/png": "[encoded data removed]",
      "text/plain": [
       "<matplotlib.figure.Figure at 0x7f34df5faf10>"
      ]
     },
     "metadata": {},
     "output_type": "display_data"
    }
   ],
   "source": [
    "# Tensor containing means of each class\n",
    "\n",
    "mean = model.mean\n",
    "\n",
    "# Tensor containing covariance matrix of each class\n",
    "covariance = model.covariance\n",
    "\n",
    "# Array containing apriori probability of each class\n",
    "apriori = model.apriori\n",
    "\n",
    "# Visualizing estimated means of each class\n",
    "\n",
    "fig = plt.figure(figsize=(5,3))\n",
    "fig.suptitle('Mean visualization')\n",
    "ax = fig.add_subplot(121, xticks=[], yticks=[])\n",
    "ax.imshow(mean[0,:].reshape(8,8), cmap='gray')\n",
    "ax.set_title('Class 5')\n",
    "ax = fig.add_subplot(122, xticks=[], yticks=[])\n",
    "ax.imshow(mean[1,:].reshape(8,8), cmap='gray')\n",
    "ax.set_title('Class 6')\n",
    "plt.show()"
   ]
  },
  {
   "cell_type": "code",
   "execution_count": 7,
   "metadata": {
    "collapsed": false,
    "deletable": true,
    "editable": true
   },
   "outputs": [
    {
     "name": "stdout",
     "output_type": "stream",
     "text": [
      "Apriori probability of class 5: 0.509653\n",
      "Apriori probability of class 6: 0.490347\n"
     ]
    }
   ],
   "source": [
    "# Apriori probability\n",
    "print 'Apriori probability of class 5: %f'%(apriori[0])\n",
    "print 'Apriori probability of class 6: %f'%(apriori[1])"
   ]
  },
  {
   "cell_type": "code",
   "execution_count": null,
   "metadata": {
    "collapsed": true,
    "deletable": true,
    "editable": true
   },
   "outputs": [],
   "source": []
  },
  {
   "cell_type": "markdown",
   "metadata": {
    "deletable": true,
    "editable": true
   },
   "source": [
    "## Unequal covariance, $\\Sigma_{5} \\neq \\Sigma_{6}$ \n",
    "Consider the general case of covariance matrix where off-diagonal elements are non-zero and the covariance matrix is of the form $\\left(\\begin{array}{cc} \n",
    "a & b\\\\\n",
    "c & d\n",
    "\\end{array}\\right)$"
   ]
  },
  {
   "cell_type": "code",
   "execution_count": 8,
   "metadata": {
    "collapsed": false,
    "deletable": true,
    "editable": true
   },
   "outputs": [
    {
     "name": "stdout",
     "output_type": "stream",
     "text": [
      "\n",
      "Predicting on your test data...\n",
      "Prediction completed!\n",
      "\n",
      "Evaluating your model...\n",
      "Computing accuracy...\n"
     ]
    }
   ],
   "source": [
    "# Predict output using test set\n",
    "y_pred_1 = model.predict(X_test)\n",
    "\n",
    "# Evaluating the predicted output\n",
    "acc_1, confusion_matrix_1 = model.evaluate(y_pred_1, y_test)"
   ]
  },
  {
   "cell_type": "code",
   "execution_count": 9,
   "metadata": {
    "collapsed": false,
    "deletable": true,
    "editable": true
   },
   "outputs": [
    {
     "name": "stdout",
     "output_type": "stream",
     "text": [
      "Overall Accuracy: 77.18%\n",
      "\n",
      "Confusion Matrix : \n",
      "[[106  49]\n",
      " [ 27 151]]\n"
     ]
    }
   ],
   "source": [
    "# Display different evaluation metrics\n",
    "print 'Overall Accuracy: %.2f%%\\n'%(acc_1*100)\n",
    "print 'Confusion Matrix : '\n",
    "print confusion_matrix_1"
   ]
  },
  {
   "cell_type": "markdown",
   "metadata": {
    "deletable": true,
    "editable": true
   },
   "source": [
    "#### Accuracy\n",
    "| Class \t| Class 5 \t|  Class 6\t|  Overall\t|\n",
    "|---\t|---\t|---\t|\n",
    "|  **Accuracy**\t|   68.39%\t|   84.83%\t|  77.18%\t|\n",
    "\n",
    "#### Confusion Matrix\n",
    "| Class \t| Predicted 5 \t|  Predicted 6\t|\n",
    "|---\t|---\t|---\t|\n",
    "|  **True 5**\t| 106 \t| 49 \t|\n",
    "|  **True 6**\t| 27 \t| 151 \t|"
   ]
  },
  {
   "cell_type": "code",
   "execution_count": null,
   "metadata": {
    "collapsed": false,
    "deletable": true,
    "editable": true
   },
   "outputs": [],
   "source": []
  },
  {
   "cell_type": "markdown",
   "metadata": {
    "deletable": true,
    "editable": true
   },
   "source": [
    "## Equal covariance, $\\Sigma_{5} = \\Sigma_{6} = \\Sigma = \\left(\\begin{array}{cc} \n",
    "a & b\\\\\n",
    "c & d\n",
    "\\end{array}\\right)$\n",
    "\n",
    "In this case, consider a common covariance matrix for all classes. The common covariance matrix can be written as a sum of covariance matrix of each class weighted by the apriori probability of respective classes.\n",
    "\n",
    "$\\Sigma = \\sum_{i} \\hat{P}(C_i)\\Sigma_{i}$"
   ]
  },
  {
   "cell_type": "code",
   "execution_count": 10,
   "metadata": {
    "collapsed": false,
    "deletable": true,
    "editable": true
   },
   "outputs": [
    {
     "name": "stdout",
     "output_type": "stream",
     "text": [
      "\n",
      "Predicting on your test data...\n",
      "Prediction completed!\n",
      "\n",
      "Evaluating your model...\n",
      "Computing accuracy...\n"
     ]
    }
   ],
   "source": [
    "# Computing single covariance class\n",
    "for i in range(model.n_class):\n",
    "    covariance[i,:,:] *= apriori[i]\n",
    "covariance = np.sum(covariance, axis=0)\n",
    "\n",
    "# Setting covariance attribute of model\n",
    "model.covariance = covariance\n",
    "\n",
    "# Predicting output on test data using single covariance matrix\n",
    "y_pred_2 = model.predict(X_test)\n",
    "\n",
    "# Evaluating the predicted output\n",
    "acc_2, confusion_matrix_2 = model.evaluate(y_pred_2, y_test)"
   ]
  },
  {
   "cell_type": "code",
   "execution_count": 11,
   "metadata": {
    "collapsed": false,
    "deletable": true,
    "editable": true
   },
   "outputs": [
    {
     "name": "stdout",
     "output_type": "stream",
     "text": [
      "Overall Accuracy: 85.59%\n",
      "\n",
      "Confusion matrix\n",
      "[[134  21]\n",
      " [ 27 151]]\n"
     ]
    }
   ],
   "source": [
    "# Display different evaluation metrics\n",
    "print 'Overall Accuracy: %.2f%%\\n'%(acc_2*100)\n",
    "print 'Confusion matrix'\n",
    "print confusion_matrix_2"
   ]
  },
  {
   "cell_type": "markdown",
   "metadata": {
    "deletable": true,
    "editable": true
   },
   "source": [
    "#### Accuracy\n",
    "| Class \t| Class 5 \t|  Class 6\t|  Overall\t|\n",
    "|---\t|---\t|---\t|\n",
    "|  **Accuracy**\t|   86.45%\t|   84.83%\t|  85.59%\t|\n",
    "\n",
    "\n",
    "#### Confusion Matrix\n",
    "| Class \t| Predicted 5 \t|  Predicted 6\t|\n",
    "|---\t|---\t|---\t|\n",
    "|  **True 5**\t| 134 \t| 21 \t|\n",
    "|  **True 6**\t| 27 \t| 151 \t|"
   ]
  },
  {
   "cell_type": "code",
   "execution_count": null,
   "metadata": {
    "collapsed": true,
    "deletable": true,
    "editable": true
   },
   "outputs": [],
   "source": []
  },
  {
   "cell_type": "markdown",
   "metadata": {
    "collapsed": false,
    "deletable": true,
    "editable": true
   },
   "source": [
    "## Diagonal covariance, $\\Sigma_{5} = \\Sigma_{6} = \\Sigma = \\left(\\begin{array}{cc} \n",
    "a & 0\\\\\n",
    "0 & b\n",
    "\\end{array}\\right)$\n",
    "\n",
    "In this case, we assume a common diagonal covariance matrix for all classes. The diagonal covariance matrix is derived by setting all off-diagonal elements as zero."
   ]
  },
  {
   "cell_type": "code",
   "execution_count": 12,
   "metadata": {
    "collapsed": false,
    "deletable": true,
    "editable": true
   },
   "outputs": [
    {
     "name": "stdout",
     "output_type": "stream",
     "text": [
      "\n",
      "Predicting on your test data...\n",
      "Prediction completed!\n",
      "\n",
      "Evaluating your model...\n",
      "Computing accuracy...\n"
     ]
    }
   ],
   "source": [
    "# Computing diagonal covariance matrix\n",
    "cova = model.covariance\n",
    "cov = np.zeros((n,n))\n",
    "cov[np.arange(n), np.arange(n)] = cova[np.arange(n), np.arange(n)]\n",
    "\n",
    "# Setting covariance attribute of model\n",
    "model.covariance = cov\n",
    "\n",
    "# Predicting output on test data\n",
    "y_pred_3 = model.predict(X_test)\n",
    "\n",
    "# Evaluating the predicted output\n",
    "acc_3, confusion_matrix_3 = model.evaluate(y_pred_3, y_test)"
   ]
  },
  {
   "cell_type": "code",
   "execution_count": 13,
   "metadata": {
    "collapsed": false,
    "deletable": true,
    "editable": true
   },
   "outputs": [
    {
     "name": "stdout",
     "output_type": "stream",
     "text": [
      "Overall Accuracy: 81.08%\n",
      "\n",
      "Confusion matrix\n",
      "[[133  22]\n",
      " [ 41 137]]\n"
     ]
    }
   ],
   "source": [
    "print 'Overall Accuracy: %.2f%%\\n'%(acc_3*100)\n",
    "print 'Confusion matrix'\n",
    "print confusion_matrix_3"
   ]
  },
  {
   "cell_type": "markdown",
   "metadata": {
    "collapsed": false,
    "deletable": true,
    "editable": true
   },
   "source": [
    "#### Accuracy\n",
    "| Class \t| Class 5 \t|  Class 6\t|  Overall\t|\n",
    "|---\t|---\t|---\t|\n",
    "|  **Accuracy**\t|   85.8%\t|   76.96%\t|  81.08%\t|\n",
    "\n",
    "\n",
    "#### Confusion Matrix\n",
    "| Class \t| Predicted 5 \t|  Predicted 6\t|\n",
    "|---\t|---\t|---\t|\n",
    "|  **True 5**\t| 133 \t| 22 \t|\n",
    "|  **True 6**\t| 41 \t| 137 \t|"
   ]
  },
  {
   "cell_type": "code",
   "execution_count": null,
   "metadata": {
    "collapsed": false,
    "deletable": true,
    "editable": true
   },
   "outputs": [],
   "source": []
  }
 ],
 "metadata": {
  "kernelspec": {
   "display_name": "Python 2",
   "language": "python",
   "name": "python2"
  },
  "language_info": {
   "codemirror_mode": {
    "name": "ipython",
    "version": 2
   },
   "file_extension": ".py",
   "mimetype": "text/x-python",
   "name": "python",
   "nbconvert_exporter": "python",
   "pygments_lexer": "ipython2",
   "version": "2.7.14"
  }
 },
 "nbformat": 4,
 "nbformat_minor": 2
}
